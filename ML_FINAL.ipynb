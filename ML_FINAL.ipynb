{
  "nbformat": 4,
  "nbformat_minor": 0,
  "metadata": {
    "accelerator": "GPU",
    "colab": {
      "name": "ML_FINAL.ipynb",
      "provenance": [],
      "collapsed_sections": []
    },
    "kernelspec": {
      "display_name": "Python 3",
      "name": "python3"
    }
  },
  "cells": [
    {
      "cell_type": "markdown",
      "metadata": {
        "id": "7JX_250cNBRK"
      },
      "source": [
        "# Fine-tuning Pre-trained models\r\n",
        "Resources: \r\n",
        "\r\n",
        "https://tensorflow-object-detection-api-tutorial.readthedocs.io/en/latest/auto_examples/plot_object_detection_saved_model.html\r\n"
      ]
    },
    {
      "cell_type": "code",
      "metadata": {
        "id": "soN4fQzxvwHi"
      },
      "source": [
        "# test gpu\r\n",
        "!pip install tensorflow==2.2.0\r\n",
        "import tensorflow as tf\r\n",
        "device_name = tf.test.gpu_device_name()\r\n",
        "if device_name != '/device:GPU:0':\r\n",
        "  raise SystemError('GPU device not found')"
      ],
      "execution_count": null,
      "outputs": []
    },
    {
      "cell_type": "code",
      "metadata": {
        "id": "qKbIWy9ZwlqB"
      },
      "source": [
        "from google.colab import drive\r\n",
        "drive.mount('/content/gdrive')"
      ],
      "execution_count": null,
      "outputs": []
    },
    {
      "cell_type": "code",
      "metadata": {
        "id": "ZBnTL0I472ZS"
      },
      "source": [
        "PROJECT_NAME = 'MLFinalProject'"
      ],
      "execution_count": null,
      "outputs": []
    },
    {
      "cell_type": "code",
      "metadata": {
        "id": "ggPq-6Sby1Zw"
      },
      "source": [
        "# install object detection api\r\n",
        "%cd '/content/gdrive/My Drive/$PROJECT_NAME'\r\n",
        "\r\n",
        "#clone the TensorFlow Model Garden repository\r\n",
        "!git clone https://github.com/tensorflow/models.git\r\n",
        "\r\n",
        "#clone repo containing \r\n"
      ],
      "execution_count": null,
      "outputs": []
    },
    {
      "cell_type": "code",
      "metadata": {
        "id": "YDJ1Dy9ZzGRS"
      },
      "source": [
        "!apt-get install protobuf-compiler python-lxml python-pil\r\n",
        "!pip install Cython pandas tf-slim\r\n",
        "!pip install lvis\r\n",
        "\r\n",
        "#cd into 'TensorFlow/models/research'\r\n",
        "%cd '/content/gdrive/My Drive/$PROJECT_NAME/models/research/'\r\n",
        "!protoc object_detection/protos/*.proto --python_out=."
      ],
      "execution_count": null,
      "outputs": []
    },
    {
      "cell_type": "code",
      "metadata": {
        "id": "QyXMz4tTzagl"
      },
      "source": [
        "# setup env \r\n",
        "import os\r\n",
        "import sys\r\n",
        "os.environ['PYTHONPATH']+=\":/content/gdrive/My Drive/$PROJECT_NAME/models\"\r\n",
        "sys.path.append(\"/content/gdrive/My Drive/$PROJECT_NAME/models/research\")"
      ],
      "execution_count": null,
      "outputs": []
    },
    {
      "cell_type": "code",
      "metadata": {
        "id": "WEQloqsa0Okt",
        "colab": {
          "base_uri": "https://localhost:8080/"
        },
        "outputId": "e61c3c41-9aef-4564-9900-d5380ef5a867"
      },
      "source": [
        "!python \"/content/gdrive/My Drive/$PROJECT_NAME/models/research/setup.py\" build\r\n",
        "!python \"/content/gdrive/My Drive/$PROJECT_NAME/models/research/setup.py\" install"
      ],
      "execution_count": 12,
      "outputs": [
        {
          "output_type": "stream",
          "text": [
            "python3: can't open file '/content/gdrive/My Drive/MLFinalProject/models/research/setup.py': [Errno 2] No such file or directory\n",
            "python3: can't open file '/content/gdrive/My Drive/MLFinalProject/models/research/setup.py': [Errno 2] No such file or directory\n"
          ],
          "name": "stdout"
        }
      ]
    },
    {
      "cell_type": "code",
      "metadata": {
        "id": "FnypHxSMzfKr"
      },
      "source": [
        "# test that install and build was successful\r\n",
        "%cd '/content/gdrive/My Drive/$PROJECT_NAME/models/research/object_detection/builders/'\r\n",
        "!python model_builder_tf2_test.py"
      ],
      "execution_count": null,
      "outputs": []
    },
    {
      "cell_type": "code",
      "metadata": {
        "id": "BH7BWZd7EWE_"
      },
      "source": [
        "model = 'faster_rcnn_inception_resnet_v2_640x640_coco17_tpu-8'\r\n",
        "logdir = f'./data/training/models/{model}/fine-tune/'\r\n",
        "os.system(f\"tensorboard --logdir={logdir}\")"
      ],
      "execution_count": null,
      "outputs": []
    },
    {
      "cell_type": "code",
      "metadata": {
        "id": "VuF56ikHF-zr"
      },
      "source": [
        "# train model\r\n",
        "%cd '/content/gdrive/My Drive/$PROJECT_NAME/'\r\n",
        "!python src/training/training.py"
      ],
      "execution_count": null,
      "outputs": []
    },
    {
      "cell_type": "code",
      "metadata": {
        "id": "ZrHo3Q2Q86z3"
      },
      "source": [
        "# export model\r\n",
        "%cd '/content/gdrive/My Drive/$PROJECT_NAME/'\r\n",
        "!python src/training/training.py"
      ],
      "execution_count": null,
      "outputs": []
    }
  ]
}